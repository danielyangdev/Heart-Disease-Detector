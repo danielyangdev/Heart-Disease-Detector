{
  "nbformat": 4,
  "nbformat_minor": 0,
  "metadata": {
    "colab": {
      "provenance": [],
      "toc_visible": true,
      "authorship_tag": "ABX9TyPJNAQSn7ttg3ax4mQKdprt",
      "include_colab_link": true
    },
    "kernelspec": {
      "name": "python3",
      "display_name": "Python 3"
    },
    "language_info": {
      "name": "python"
    }
  },
  "cells": [
    {
      "cell_type": "markdown",
      "metadata": {
        "id": "view-in-github",
        "colab_type": "text"
      },
      "source": [
        "<a href=\"https://colab.research.google.com/github/danielyangdev/Heart-Disease-Detector/blob/main/Heart_Disease_Detector.ipynb\" target=\"_parent\"><img src=\"https://colab.research.google.com/assets/colab-badge.svg\" alt=\"Open In Colab\"/></a>"
      ]
    },
    {
      "cell_type": "markdown",
      "source": [
        "### **VERSION** **1**"
      ],
      "metadata": {
        "id": "qQ2zc7DMd2aZ"
      }
    },
    {
      "cell_type": "code",
      "source": [
        "import numpy as np\n",
        "import pandas as pd\n",
        "import tensorflow as tf\n",
        "import matplotlib.pyplot as plt\n",
        "import seaborn as sns\n",
        "from matplotlib import rc\n",
        "from pylab import rcParams\n",
        "from sklearn.metrics import classification_report,confusion_matrix\n",
        "from sklearn.model_selection import train_test_split\n",
        "from keras.models import Sequential\n",
        "from keras.layers import Dense, ReLU, Dropout"
      ],
      "metadata": {
        "id": "Y_xdkLIIeSVY"
      },
      "execution_count": 39,
      "outputs": []
    },
    {
      "cell_type": "code",
      "source": [
        "myData = pd.read_csv('heart.csv')\n",
        "myData = (myData - np.min(myData))/(np.max(myData) - np.min(myData))\n",
        "\n",
        "x = myData.drop('target', axis=1)\n",
        "y = myData['target']\n",
        "X_train, X_test, Y_train, Y_test = train_test_split(x, y, test_size=.2, random_state=2)"
      ],
      "metadata": {
        "id": "epaGRKiDeuxr"
      },
      "execution_count": null,
      "outputs": []
    },
    {
      "cell_type": "code",
      "source": [
        "model = Sequential()\n",
        "model.add(Dense(100, input_shape=(13,),activation=\"relu\"))\n",
        "model.add(Dense(units=64, activation='relu')),\n",
        "model.add(Dropout(rate=0.2)),\n",
        "model.add(Dense(units=1, activation='sigmoid'))\n",
        "model.compile(optimizer='Adam', loss='categorical_hinge', metrics=['accuracy'])"
      ],
      "metadata": {
        "id": "zwC7IPVFfs0t"
      },
      "execution_count": 45,
      "outputs": []
    },
    {
      "cell_type": "code",
      "source": [
        "hist=model.fit(X_train, Y_train,validation_data=(X_test, Y_test), epochs=10)\n",
        "y_predicted = (model.predict(X_test) >= 0.5)\n",
        "\n",
        "conf_mat = confusion_matrix(Y_test, y_predicted)\n",
        "total = sum(sum(conf_mat))\n",
        "accuracy = (conf_mat[0, 0] + conf_mat[1, 1])/total\n",
        "print('accuracy : ', accuracy)"
      ],
      "metadata": {
        "colab": {
          "base_uri": "https://localhost:8080/"
        },
        "id": "3bcp7O2qf57y",
        "outputId": "89edff8f-a273-4ca2-ddf2-db2e88eeb082"
      },
      "execution_count": 46,
      "outputs": [
        {
          "output_type": "stream",
          "name": "stdout",
          "text": [
            "Epoch 1/10\n",
            "26/26 [==============================] - 1s 9ms/step - loss: 0.9471 - accuracy: 0.5902 - val_loss: 0.9315 - val_accuracy: 0.7707\n",
            "Epoch 2/10\n",
            "26/26 [==============================] - 0s 3ms/step - loss: 0.8413 - accuracy: 0.7805 - val_loss: 0.8105 - val_accuracy: 0.8098\n",
            "Epoch 3/10\n",
            "26/26 [==============================] - 0s 4ms/step - loss: 0.7471 - accuracy: 0.7963 - val_loss: 0.7412 - val_accuracy: 0.8098\n",
            "Epoch 4/10\n",
            "26/26 [==============================] - 0s 3ms/step - loss: 0.7045 - accuracy: 0.8012 - val_loss: 0.7189 - val_accuracy: 0.8146\n",
            "Epoch 5/10\n",
            "26/26 [==============================] - 0s 4ms/step - loss: 0.6809 - accuracy: 0.8305 - val_loss: 0.7075 - val_accuracy: 0.8244\n",
            "Epoch 6/10\n",
            "26/26 [==============================] - 0s 3ms/step - loss: 0.6705 - accuracy: 0.8341 - val_loss: 0.7009 - val_accuracy: 0.8244\n",
            "Epoch 7/10\n",
            "26/26 [==============================] - 0s 3ms/step - loss: 0.6629 - accuracy: 0.8341 - val_loss: 0.6966 - val_accuracy: 0.8195\n",
            "Epoch 8/10\n",
            "26/26 [==============================] - 0s 4ms/step - loss: 0.6544 - accuracy: 0.8488 - val_loss: 0.6913 - val_accuracy: 0.8488\n",
            "Epoch 9/10\n",
            "26/26 [==============================] - 0s 3ms/step - loss: 0.6540 - accuracy: 0.8415 - val_loss: 0.6872 - val_accuracy: 0.8390\n",
            "Epoch 10/10\n",
            "26/26 [==============================] - 0s 4ms/step - loss: 0.6485 - accuracy: 0.8500 - val_loss: 0.6858 - val_accuracy: 0.8537\n",
            "7/7 [==============================] - 0s 2ms/step\n",
            "accuracy :  0.8536585365853658\n"
          ]
        }
      ]
    },
    {
      "cell_type": "markdown",
      "source": [
        "### **VERSION** **2** **(wrong)**"
      ],
      "metadata": {
        "id": "0cZ0gb_zeN4T"
      }
    },
    {
      "cell_type": "code",
      "source": [
        "import tensorflow as tf\n",
        "import numpy as np\n",
        "import torch\n",
        "import torch.nn as nn\n",
        "import torchvision\n",
        "import torchvision.transforms as transforms\n",
        "import pandas as pd\n",
        "from torch.utils.data import Dataset, DataLoader"
      ],
      "metadata": {
        "id": "9mpKwX_lsAAo"
      },
      "execution_count": 8,
      "outputs": []
    },
    {
      "cell_type": "code",
      "execution_count": null,
      "metadata": {
        "id": "D3d57BJgBVDp"
      },
      "outputs": [],
      "source": [
        "import os\n",
        "from google.colab import drive\n",
        "drive.mount('/content/drive/')\n",
        "os.environ['KAGGLE_CONFIG_DIR'] = \"/content/drive/MyDrive/Other/CAIS++/F23_Curriculum/Heart_Disease_Detector/kaggle.json\"\n",
        "!kaggle datasets download -d johnsmith88/heart-disease-dataset"
      ]
    },
    {
      "cell_type": "code",
      "source": [
        "heart_data = pd.read_csv('heart.csv')\n",
        "heart_data.info()\n",
        "heart_data.head()\n",
        "heart_data.describe()"
      ],
      "metadata": {
        "id": "YpBCZnTksH4G"
      },
      "execution_count": null,
      "outputs": []
    },
    {
      "cell_type": "code",
      "source": [
        "class CustomDataset(Dataset):\n",
        "    def __init__(self, dataframe):\n",
        "        self.dataframe = dataframe\n",
        "\n",
        "    def __getitem__(self, index):\n",
        "        row = self.dataframe.iloc[index].to_numpy()\n",
        "        features = row[1:]\n",
        "        label = row[0]\n",
        "        return features, label\n",
        "\n",
        "    def __len__(self):\n",
        "        return len(self.dataframe)\n",
        "\n",
        "\n",
        "df = pd.DataFrame(np.array([[1, 2, 3], [4, 5, 6], [7, 8, 9]]),\n",
        "                  columns=['label', 'feature_0', 'feature_1'])\n",
        "data = heart_data(dataframe=df)\n",
        "dataloader = DataLoader(data)\n",
        "for sample in dataloader:\n",
        "    print(sample)"
      ],
      "metadata": {
        "id": "n78IlNTax99d"
      },
      "execution_count": null,
      "outputs": []
    },
    {
      "cell_type": "code",
      "source": [
        "device = torch.device(\"cuda\") if torch.cuda.is_available() else torch.device(\"cpu\")\n",
        "batch_size = 8\n",
        "\n",
        "#train_data = heart_data(root='./data', train=True, transform=transforms.ToTensor(), download=True)\n",
        "#test_data = heart_data(root='./data', train=False, transform=transforms.ToTensor(), download=True)\n",
        "\n",
        "#train_loader = torch.utils.data.DataLoader(dataset = train_data, batch_size = batch_size, shuffle=True)\n",
        "#test_loader = torch.utils.data.DataLoader(dataset = test_data, batch_size = batch_size, shuffle=False)"
      ],
      "metadata": {
        "id": "nhRsYPk-ux_t"
      },
      "execution_count": null,
      "outputs": []
    },
    {
      "cell_type": "code",
      "source": [
        "input_size = 784\n",
        "num_classes = 3\n",
        "num_epochs = 10\n",
        "\n",
        "class NN(nn.Module):\n",
        "  def __init__(self, input_size, num_classes):\n",
        "    super(NN, self).__init__()\n",
        "    self.relu = nn.ReLU()\n",
        "    self.input_layer =  nn.Linear(input_size, 64)\n",
        "    self.hidden1 = nn.Linear(64, 32)\n",
        "    self.output_layer = nn.Linear(32, 10)\n",
        "\n",
        "  def forward(self, sample):\n",
        "    out = self.input_layer(sample)\n",
        "    out = self.relu(out)\n",
        "    out = self.hidden1(out)\n",
        "    out = self.relu(out)\n",
        "    out = self.output_layer(out)\n",
        "    return out\n",
        "\n",
        "nn_model = NN(input_size, num_classes)"
      ],
      "metadata": {
        "id": "61lzCx0NxnU3"
      },
      "execution_count": 13,
      "outputs": []
    },
    {
      "cell_type": "code",
      "source": [
        "loss_function = nn.CrossEntropyLoss()\n",
        "oprimizer = torch.optim.Adam(nn_model.parameters(), lr = 0.0001)"
      ],
      "metadata": {
        "id": "4N4Zn2aDyw_q"
      },
      "execution_count": 14,
      "outputs": []
    },
    {
      "cell_type": "code",
      "source": [
        "total_steps = len(train_loader)\n",
        "for epoch in range(num_epochs):\n",
        "  for i, (images, labels) in enumerate(train_loader):\n",
        "    #images = images.reshape(-1,28*28).to(device)\n",
        "    labels = labels.to(device)\n",
        "\n",
        "    output = nn_model.forward(images)\n",
        "    loss = loss_function(output, labels)\n",
        "\n",
        "    optimizer.zero_grad()\n",
        "    loss.backward()\n",
        "    optimizer.step()\n",
        "\n",
        "    if (i+1) % 100 == 0:\n",
        "      print(f'epoch {epoch+1} / {num_epochs}, step {i+1}/{total_steps}, loss = {loss.item():.4f}')"
      ],
      "metadata": {
        "id": "fmrd_kVMy9vh"
      },
      "execution_count": null,
      "outputs": []
    },
    {
      "cell_type": "code",
      "source": [
        "with torch.no_grad():\n",
        "  accuracy_arr = []\n",
        "  loss_arr = []\n",
        "  correct_predict_num = 0\n",
        "  sample_num = 0\n",
        "  for images, labels in test_loader:\n",
        "    images = images.reshape(batch_size, -1).to(device)\n",
        "    labels = labels.to(device)\n",
        "    output = nn_model(images)\n",
        "\n",
        "    loss, predictions = torch.max(output, 1)\n",
        "    sample_num += labels.shape[0]\n",
        "    correct_predict_num += (predictions == labels).sum().item()\n",
        "\n",
        "    loss = loss_function(output, labels)\n",
        "    accuracy =  correct_predict_num / sample_num\n",
        "    accuracy_arr.append(accuracy)\n",
        "    loss_arr.append(loss)\n",
        "\n",
        "print(f'Average Accuracy: {sum(accuracy_arr)/len(accuracy_arr)}')\n",
        "print(f'Average Cost/Loss: {sum(loss_arr)/len(loss_arr)}')"
      ],
      "metadata": {
        "id": "ddkmap_8zb7U"
      },
      "execution_count": null,
      "outputs": []
    },
    {
      "cell_type": "code",
      "source": [
        "sample_num = 1\n",
        "\n",
        "images, labels = next(iter(train_loader))\n",
        "test_images = images.reshape(-1, 28*28).to(device)\n",
        "test_labels = labels.to(device)\n",
        "\n",
        "prediction_outputs = nn_model(test_images[sample_num])  # outputted probabilities vector\n",
        "print(\"Prediction output: \", prediction_outputs)\n",
        "\n",
        "predicted_digit = torch.argmax(prediction_outputs) # pick the class with highest probability --> final prediction\n",
        "print(\"Predicted digit: \", predicted_digit.item()) # print predicted classification\n",
        "\n",
        "# Show actual input image\n",
        "plt.imshow(images[sample_num][0], cmap=\"gray\")\n",
        "plt.show()"
      ],
      "metadata": {
        "id": "39QsKSWlzj0R"
      },
      "execution_count": null,
      "outputs": []
    }
  ]
}