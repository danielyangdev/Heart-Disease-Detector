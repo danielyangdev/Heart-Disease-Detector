{
  "nbformat": 4,
  "nbformat_minor": 0,
  "metadata": {
    "colab": {
      "provenance": [],
      "authorship_tag": "ABX9TyNzkhNvXaHSAOwpgG067iKI",
      "include_colab_link": true
    },
    "kernelspec": {
      "name": "python3",
      "display_name": "Python 3"
    },
    "language_info": {
      "name": "python"
    }
  },
  "cells": [
    {
      "cell_type": "markdown",
      "metadata": {
        "id": "view-in-github",
        "colab_type": "text"
      },
      "source": [
        "<a href=\"https://colab.research.google.com/github/danielyangdev/Heart-Disease-Detector/blob/main/Heart_Disease_Detector.ipynb\" target=\"_parent\"><img src=\"https://colab.research.google.com/assets/colab-badge.svg\" alt=\"Open In Colab\"/></a>"
      ]
    },
    {
      "cell_type": "code",
      "source": [
        "import numpy as np\n",
        "import pandas as pd\n",
        "import tensorflow as tf\n",
        "from sklearn.metrics import classification_report,confusion_matrix\n",
        "from sklearn.model_selection import train_test_split\n",
        "from keras.models import Sequential\n",
        "from keras.layers import Dense, ReLU"
      ],
      "metadata": {
        "id": "Y_xdkLIIeSVY"
      },
      "execution_count": 4,
      "outputs": []
    },
    {
      "cell_type": "code",
      "source": [
        "myData = pd.read_csv('heart.csv')\n",
        "myData = (myData - np.min(myData))/(np.max(myData) - np.min(myData))\n",
        "\n",
        "x = myData.drop('target', axis=1)\n",
        "y = myData['target']\n",
        "X_train, X_test, Y_train, Y_test = train_test_split(x, y, test_size=.2, random_state=2)"
      ],
      "metadata": {
        "id": "epaGRKiDeuxr"
      },
      "execution_count": null,
      "outputs": []
    },
    {
      "cell_type": "code",
      "source": [
        "model = Sequential()\n",
        "model.add(Dense(100, input_shape=(13,),activation=\"relu\"))\n",
        "model.add(Dense(units=64, activation='relu')),\n",
        "model.add(Dense(units=128, activation='relu')),\n",
        "model.add(Dense(units=1, activation='sigmoid'))\n",
        "model.compile(optimizer='Adam', loss='categorical_hinge', metrics=['accuracy'])"
      ],
      "metadata": {
        "id": "zwC7IPVFfs0t"
      },
      "execution_count": 5,
      "outputs": []
    },
    {
      "cell_type": "code",
      "source": [
        "hist=model.fit(X_train, Y_train,validation_data=(X_test, Y_test), epochs=10)\n",
        "y_predicted = (model.predict(X_test) >= 0.5)\n",
        "\n",
        "conf_mat = confusion_matrix(Y_test, y_predicted)\n",
        "total = sum(sum(conf_mat))\n",
        "accuracy = (conf_mat[0, 0] + conf_mat[1, 1])/total\n",
        "print('accuracy : ', accuracy)\n",
        "#Accuracy = 88.7%"
      ],
      "metadata": {
        "colab": {
          "base_uri": "https://localhost:8080/"
        },
        "id": "3bcp7O2qf57y",
        "outputId": "99fe3d65-f5ed-4e84-ec1c-9756675d7227"
      },
      "execution_count": 6,
      "outputs": [
        {
          "output_type": "stream",
          "name": "stdout",
          "text": [
            "Epoch 1/10\n",
            "26/26 [==============================] - 1s 12ms/step - loss: 0.9205 - accuracy: 0.7207 - val_loss: 0.8533 - val_accuracy: 0.7902\n",
            "Epoch 2/10\n",
            "26/26 [==============================] - 0s 4ms/step - loss: 0.7447 - accuracy: 0.8037 - val_loss: 0.7218 - val_accuracy: 0.8098\n",
            "Epoch 3/10\n",
            "26/26 [==============================] - 0s 4ms/step - loss: 0.6734 - accuracy: 0.8317 - val_loss: 0.7159 - val_accuracy: 0.8000\n",
            "Epoch 4/10\n",
            "26/26 [==============================] - 0s 3ms/step - loss: 0.6587 - accuracy: 0.8439 - val_loss: 0.6833 - val_accuracy: 0.8537\n",
            "Epoch 5/10\n",
            "26/26 [==============================] - 0s 3ms/step - loss: 0.6431 - accuracy: 0.8512 - val_loss: 0.6792 - val_accuracy: 0.8439\n",
            "Epoch 6/10\n",
            "26/26 [==============================] - 0s 3ms/step - loss: 0.6348 - accuracy: 0.8610 - val_loss: 0.6655 - val_accuracy: 0.8537\n",
            "Epoch 7/10\n",
            "26/26 [==============================] - 0s 4ms/step - loss: 0.6231 - accuracy: 0.8720 - val_loss: 0.6617 - val_accuracy: 0.8585\n",
            "Epoch 8/10\n",
            "26/26 [==============================] - 0s 4ms/step - loss: 0.6160 - accuracy: 0.8817 - val_loss: 0.6496 - val_accuracy: 0.8732\n",
            "Epoch 9/10\n",
            "26/26 [==============================] - 0s 3ms/step - loss: 0.6095 - accuracy: 0.8817 - val_loss: 0.6427 - val_accuracy: 0.8732\n",
            "Epoch 10/10\n",
            "26/26 [==============================] - 0s 3ms/step - loss: 0.6042 - accuracy: 0.8878 - val_loss: 0.6414 - val_accuracy: 0.8878\n",
            "7/7 [==============================] - 0s 2ms/step\n",
            "accuracy :  0.8878048780487805\n"
          ]
        }
      ]
    }
  ]
}