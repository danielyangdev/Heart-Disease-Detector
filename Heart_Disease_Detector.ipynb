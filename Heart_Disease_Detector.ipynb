{
  "nbformat": 4,
  "nbformat_minor": 0,
  "metadata": {
    "colab": {
      "provenance": [],
      "toc_visible": true,
      "authorship_tag": "ABX9TyP2JOrhrh7XTQTkEsBnWCJm",
      "include_colab_link": true
    },
    "kernelspec": {
      "name": "python3",
      "display_name": "Python 3"
    },
    "language_info": {
      "name": "python"
    }
  },
  "cells": [
    {
      "cell_type": "markdown",
      "metadata": {
        "id": "view-in-github",
        "colab_type": "text"
      },
      "source": [
        "<a href=\"https://colab.research.google.com/github/danielyangdev/Heart-Disease-Detector/blob/main/Heart_Disease_Detector.ipynb\" target=\"_parent\"><img src=\"https://colab.research.google.com/assets/colab-badge.svg\" alt=\"Open In Colab\"/></a>"
      ]
    },
    {
      "cell_type": "code",
      "source": [
        "import numpy as np\n",
        "import pandas as pd\n",
        "import tensorflow as tf\n",
        "from sklearn.metrics import classification_report,confusion_matrix\n",
        "from sklearn.model_selection import train_test_split\n",
        "from keras.models import Sequential\n",
        "from keras.layers import Dense, ReLU"
      ],
      "metadata": {
        "id": "Y_xdkLIIeSVY"
      },
      "execution_count": null,
      "outputs": []
    },
    {
      "cell_type": "code",
      "source": [
        "myData = pd.read_csv('heart.csv')\n",
        "myData = (myData - np.min(myData))/(np.max(myData) - np.min(myData))\n",
        "\n",
        "x = myData.drop('target', axis=1)\n",
        "y = myData['target']\n",
        "X_train, X_test, Y_train, Y_test = train_test_split(x, y, test_size=.2, random_state=2)"
      ],
      "metadata": {
        "id": "epaGRKiDeuxr"
      },
      "execution_count": null,
      "outputs": []
    },
    {
      "cell_type": "code",
      "source": [
        "model = Sequential()\n",
        "model.add(Dense(100, input_shape=(13,),activation=\"relu\"))\n",
        "model.add(Dense(units=64, activation='relu')),\n",
        "# model.add(Dropout(rate=0.2)),\n",
        "model.add(Dense(units=1, activation='sigmoid'))\n",
        "model.compile(optimizer='Adam', loss='categorical_hinge', metrics=['accuracy'])"
      ],
      "metadata": {
        "id": "zwC7IPVFfs0t"
      },
      "execution_count": null,
      "outputs": []
    },
    {
      "cell_type": "code",
      "source": [
        "hist=model.fit(X_train, Y_train,validation_data=(X_test, Y_test), epochs=10)\n",
        "y_predicted = (model.predict(X_test) >= 0.5)\n",
        "\n",
        "conf_mat = confusion_matrix(Y_test, y_predicted)\n",
        "total = sum(sum(conf_mat))\n",
        "accuracy = (conf_mat[0, 0] + conf_mat[1, 1])/total\n",
        "print('accuracy : ', accuracy)\n",
        "#Accuracy = 84.8%"
      ],
      "metadata": {
        "colab": {
          "base_uri": "https://localhost:8080/"
        },
        "id": "3bcp7O2qf57y",
        "outputId": "3a46a6c1-4545-412a-b2ca-a5f8ceffc2aa"
      },
      "execution_count": null,
      "outputs": [
        {
          "output_type": "stream",
          "name": "stdout",
          "text": [
            "Epoch 1/10\n",
            "26/26 [==============================] - 2s 22ms/step - loss: 0.9419 - accuracy: 0.6646 - val_loss: 0.9067 - val_accuracy: 0.8244\n",
            "Epoch 2/10\n",
            "26/26 [==============================] - 0s 6ms/step - loss: 0.8246 - accuracy: 0.7866 - val_loss: 0.7769 - val_accuracy: 0.8098\n",
            "Epoch 3/10\n",
            "26/26 [==============================] - 0s 8ms/step - loss: 0.7220 - accuracy: 0.7976 - val_loss: 0.7222 - val_accuracy: 0.7951\n",
            "Epoch 4/10\n",
            "26/26 [==============================] - 0s 6ms/step - loss: 0.6843 - accuracy: 0.8232 - val_loss: 0.7146 - val_accuracy: 0.8098\n",
            "Epoch 5/10\n",
            "26/26 [==============================] - 0s 4ms/step - loss: 0.6711 - accuracy: 0.8207 - val_loss: 0.6970 - val_accuracy: 0.8293\n",
            "Epoch 6/10\n",
            "26/26 [==============================] - 0s 4ms/step - loss: 0.6576 - accuracy: 0.8415 - val_loss: 0.6915 - val_accuracy: 0.8439\n",
            "Epoch 7/10\n",
            "26/26 [==============================] - 0s 3ms/step - loss: 0.6494 - accuracy: 0.8549 - val_loss: 0.6884 - val_accuracy: 0.8293\n",
            "Epoch 8/10\n",
            "26/26 [==============================] - 0s 4ms/step - loss: 0.6442 - accuracy: 0.8561 - val_loss: 0.6884 - val_accuracy: 0.8439\n",
            "Epoch 9/10\n",
            "26/26 [==============================] - 0s 3ms/step - loss: 0.6406 - accuracy: 0.8622 - val_loss: 0.6807 - val_accuracy: 0.8390\n",
            "Epoch 10/10\n",
            "26/26 [==============================] - 0s 3ms/step - loss: 0.6356 - accuracy: 0.8622 - val_loss: 0.6772 - val_accuracy: 0.8488\n",
            "7/7 [==============================] - 0s 2ms/step\n",
            "accuracy :  0.848780487804878\n"
          ]
        }
      ]
    }
  ]
}