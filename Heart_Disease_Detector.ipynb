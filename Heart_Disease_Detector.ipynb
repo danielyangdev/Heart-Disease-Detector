{
  "nbformat": 4,
  "nbformat_minor": 0,
  "metadata": {
    "colab": {
      "provenance": [],
      "toc_visible": true,
      "authorship_tag": "ABX9TyPB1nuY2j7Rt7tB0+dlgd2i",
      "include_colab_link": true
    },
    "kernelspec": {
      "name": "python3",
      "display_name": "Python 3"
    },
    "language_info": {
      "name": "python"
    }
  },
  "cells": [
    {
      "cell_type": "markdown",
      "metadata": {
        "id": "view-in-github",
        "colab_type": "text"
      },
      "source": [
        "<a href=\"https://colab.research.google.com/github/danielyangdev/Heart-Disease-Detector/blob/main/Heart_Disease_Detector.ipynb\" target=\"_parent\"><img src=\"https://colab.research.google.com/assets/colab-badge.svg\" alt=\"Open In Colab\"/></a>"
      ]
    },
    {
      "cell_type": "code",
      "source": [
        "import numpy as np\n",
        "import pandas as pd\n",
        "import tensorflow as tf\n",
        "from sklearn.metrics import classification_report,confusion_matrix\n",
        "from sklearn.model_selection import train_test_split\n",
        "from keras.models import Sequential\n",
        "from keras.layers import Dense, ReLU, Dropout"
      ],
      "metadata": {
        "id": "Y_xdkLIIeSVY"
      },
      "execution_count": null,
      "outputs": []
    },
    {
      "cell_type": "code",
      "source": [
        "myData = pd.read_csv('heart.csv')\n",
        "myData = (myData - np.min(myData))/(np.max(myData) - np.min(myData))\n",
        "\n",
        "x = myData.drop('target', axis=1)\n",
        "y = myData['target']\n",
        "X_train, X_test, Y_train, Y_test = train_test_split(x, y, test_size=.2, random_state=2)"
      ],
      "metadata": {
        "id": "epaGRKiDeuxr"
      },
      "execution_count": null,
      "outputs": []
    },
    {
      "cell_type": "code",
      "source": [
        "model = Sequential()\n",
        "model.add(Dense(100, input_shape=(13,),activation=\"relu\"))\n",
        "model.add(Dense(units=64, activation='relu')),\n",
        "model.add(Dropout(rate=0.2)),\n",
        "model.add(Dense(units=128, activation='relu')),\n",
        "model.add(Dropout(rate=0.2)),\n",
        "model.add(Dense(units=1, activation='sigmoid'))\n",
        "model.compile(optimizer='Adam', loss='categorical_hinge', metrics=['accuracy'])"
      ],
      "metadata": {
        "id": "zwC7IPVFfs0t"
      },
      "execution_count": null,
      "outputs": []
    },
    {
      "cell_type": "code",
      "source": [
        "hist=model.fit(X_train, Y_train,validation_data=(X_test, Y_test), epochs=10)\n",
        "y_predicted = (model.predict(X_test) >= 0.5)\n",
        "\n",
        "conf_mat = confusion_matrix(Y_test, y_predicted)\n",
        "total = sum(sum(conf_mat))\n",
        "accuracy = (conf_mat[0, 0] + conf_mat[1, 1])/total\n",
        "print('accuracy : ', accuracy)\n",
        "#Accuracy = 93.6%"
      ],
      "metadata": {
        "colab": {
          "base_uri": "https://localhost:8080/"
        },
        "id": "3bcp7O2qf57y",
        "outputId": "ac9addfa-5369-445e-ec47-fca43527c653"
      },
      "execution_count": null,
      "outputs": [
        {
          "output_type": "stream",
          "name": "stdout",
          "text": [
            "Epoch 1/10\n",
            "26/26 [==============================] - 0s 14ms/step - loss: 0.5575 - accuracy: 0.9232 - val_loss: 0.5757 - val_accuracy: 0.9366\n",
            "Epoch 2/10\n",
            "26/26 [==============================] - 0s 13ms/step - loss: 0.5578 - accuracy: 0.9232 - val_loss: 0.5763 - val_accuracy: 0.9366\n",
            "Epoch 3/10\n",
            "26/26 [==============================] - 0s 15ms/step - loss: 0.5617 - accuracy: 0.9195 - val_loss: 0.5760 - val_accuracy: 0.9366\n",
            "Epoch 4/10\n",
            "26/26 [==============================] - 0s 7ms/step - loss: 0.5579 - accuracy: 0.9232 - val_loss: 0.5758 - val_accuracy: 0.9366\n",
            "Epoch 5/10\n",
            "26/26 [==============================] - 0s 4ms/step - loss: 0.5577 - accuracy: 0.9232 - val_loss: 0.5757 - val_accuracy: 0.9366\n",
            "Epoch 6/10\n",
            "26/26 [==============================] - 0s 4ms/step - loss: 0.5576 - accuracy: 0.9232 - val_loss: 0.5757 - val_accuracy: 0.9366\n",
            "Epoch 7/10\n",
            "26/26 [==============================] - 0s 4ms/step - loss: 0.5575 - accuracy: 0.9232 - val_loss: 0.5757 - val_accuracy: 0.9366\n",
            "Epoch 8/10\n",
            "26/26 [==============================] - 0s 4ms/step - loss: 0.5575 - accuracy: 0.9232 - val_loss: 0.5757 - val_accuracy: 0.9366\n",
            "Epoch 9/10\n",
            "26/26 [==============================] - 0s 4ms/step - loss: 0.5575 - accuracy: 0.9232 - val_loss: 0.5757 - val_accuracy: 0.9366\n",
            "Epoch 10/10\n",
            "26/26 [==============================] - 0s 4ms/step - loss: 0.5574 - accuracy: 0.9232 - val_loss: 0.5757 - val_accuracy: 0.9366\n",
            "7/7 [==============================] - 0s 2ms/step\n",
            "accuracy :  0.9365853658536586\n"
          ]
        }
      ]
    }
  ]
}